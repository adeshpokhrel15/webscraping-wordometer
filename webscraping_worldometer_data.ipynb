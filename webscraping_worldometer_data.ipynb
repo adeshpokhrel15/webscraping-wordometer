{
  "nbformat": 4,
  "nbformat_minor": 0,
  "metadata": {
    "colab": {
      "name": "webscraping-worldometer-data.ipynb",
      "provenance": []
    },
    "kernelspec": {
      "name": "python3",
      "display_name": "Python 3"
    },
    "language_info": {
      "name": "python"
    }
  },
  "cells": [
    {
      "cell_type": "code",
      "metadata": {
        "id": "ltrDaRDb2xlB"
      },
      "source": [
        "##Importing the Library\n",
        "from bs4 import BeautifulSoup\n",
        "import requests\n",
        "import pandas as pd"
      ],
      "execution_count": 8,
      "outputs": []
    },
    {
      "cell_type": "code",
      "metadata": {
        "id": "0sgPY-Z622Dt"
      },
      "source": [
        "##we have to type the URL from where we are webscraping\n",
        "url = \"https://www.worldometers.info/coronavirus/?utm_campaign=homeAdvegas1?%22%20%5Cl%22countries\"\n",
        "data = requests.get(url)\n",
        "soup = BeautifulSoup(data.text,'html5lib')"
      ],
      "execution_count": 9,
      "outputs": []
    },
    {
      "cell_type": "code",
      "metadata": {
        "colab": {
          "base_uri": "https://localhost:8080/"
        },
        "id": "SzlmVTEC23lg",
        "outputId": "c408a861-4853-4167-b429-ac0a13ff10ac"
      },
      "source": [
        "covid_dict = {}\n",
        "div = soup.find_all(\"div\", {\"id\": \"maincounter-wrap\"})\n",
        "for i in div:\n",
        "  content_div = i.find(\"div\",{\"class\":\"maincounter-number\"})\n",
        "  covid_dict[i.find(\"h1\").text.replace(\":\",\"\").strip()] = content_div.find(\"span\").text.strip()\n",
        "print(covid_dict)"
      ],
      "execution_count": 10,
      "outputs": [
        {
          "output_type": "stream",
          "text": [
            "{'Coronavirus Cases': '162,261,657', 'Deaths': '3,364,716', 'Recovered': '140,134,491'}\n"
          ],
          "name": "stdout"
        }
      ]
    },
    {
      "cell_type": "code",
      "metadata": {
        "colab": {
          "base_uri": "https://localhost:8080/"
        },
        "id": "mJY43ydL26Ed",
        "outputId": "483beece-b28a-4feb-a172-4fa0a68d30f3"
      },
      "source": [
        "tables = soup.find_all('table')\n",
        "table_header = tables[0].find_all('th')\n",
        "table_head = []\n",
        "for i in range(15):\n",
        "  if i != 0:\n",
        "    table_head.append(table_header[i].text.replace(\"\\n\",\"\").replace(\"\\xa0\",\"\"))\n",
        "print(table_head)"
      ],
      "execution_count": 11,
      "outputs": [
        {
          "output_type": "stream",
          "text": [
            "['Country,Other', 'TotalCases', 'NewCases', 'TotalDeaths', 'NewDeaths', 'TotalRecovered', 'NewRecovered', 'ActiveCases', 'Serious,Critical', 'TotCases/1M pop', 'Deaths/1M pop', 'TotalTests', 'Tests/1M pop', 'Population']\n"
          ],
          "name": "stdout"
        }
      ]
    },
    {
      "cell_type": "code",
      "metadata": {
        "id": "acdUbyNw2752"
      },
      "source": [
        "Covid_data = pd.DataFrame(columns=table_head)\n",
        "for row in tables[0].tbody.find_all('tr'):\n",
        "  col = row.find_all('td')\n",
        "  if (col != []):\n",
        "    country = col[1].text.strip()\n",
        "    totalCases = col[2].text.strip()\n",
        "    newCases = col[3].text.strip()\n",
        "    totalDeaths = col[4].text.strip()\n",
        "    newDeaths = col[5].text.strip()\n",
        "    totalRecovered = col[6].text.strip()\n",
        "    newRecovered = col[7].text.strip()\n",
        "    activeCases = col[8].text.strip()\n",
        "    serious = col[9].text.strip()\n",
        "    totalCases_per_m = col[10].text.strip()\n",
        "    deaths = col[11].text.strip()\n",
        "    totalTests = col[12].text.strip()\n",
        "    tests_per_m = col[13].text.strip()\n",
        "    population = col[14].text.strip()\n",
        "    Covid_data = Covid_data.append({\"Country,Other\":country,\"TotalCases\":totalCases,\"NewCases\":newCases,\n",
        "                                    \"TotalDeaths\":totalDeaths,\"NewDeaths\":newDeaths,\"TotalRecovered\":totalRecovered,\n",
        "                                    \"NewRecovered\":newRecovered,\"ActiveCases\":activeCases,\"Serious,Critical\":serious,\n",
        "                                    \"TotCases/1M pop\":totalCases_per_m,\"Deaths/1M pop\":deaths,\"TotalTests\":totalTests,\n",
        "                                    \"Tests/1M pop\":tests_per_m,\"Population\":population},ignore_index=True)"
      ],
      "execution_count": 12,
      "outputs": []
    },
    {
      "cell_type": "code",
      "metadata": {
        "id": "5z_5AIJL3Apr"
      },
      "source": [
        "Covid_data.drop(Covid_data.index[:7],inplace=True)"
      ],
      "execution_count": 6,
      "outputs": []
    },
    {
      "cell_type": "code",
      "metadata": {
        "id": "PJ57et873Enq"
      },
      "source": [
        "Covid_data.to_csv(\"Covid_data.csv\",index=False)"
      ],
      "execution_count": 7,
      "outputs": []
    },
    {
      "cell_type": "code",
      "metadata": {
        "id": "iwiUem3B3Lik"
      },
      "source": [
        "df=pd.read_csv('/content/Covid_data.csv')"
      ],
      "execution_count": 18,
      "outputs": []
    },
    {
      "cell_type": "code",
      "metadata": {
        "colab": {
          "base_uri": "https://localhost:8080/",
          "height": 473
        },
        "id": "difaLPPT32SN",
        "outputId": "60c5e315-131f-4696-e8f4-97a71cb47825"
      },
      "source": [
        "df"
      ],
      "execution_count": 19,
      "outputs": [
        {
          "output_type": "execute_result",
          "data": {
            "text/html": [
              "<div>\n",
              "<style scoped>\n",
              "    .dataframe tbody tr th:only-of-type {\n",
              "        vertical-align: middle;\n",
              "    }\n",
              "\n",
              "    .dataframe tbody tr th {\n",
              "        vertical-align: top;\n",
              "    }\n",
              "\n",
              "    .dataframe thead th {\n",
              "        text-align: right;\n",
              "    }\n",
              "</style>\n",
              "<table border=\"1\" class=\"dataframe\">\n",
              "  <thead>\n",
              "    <tr style=\"text-align: right;\">\n",
              "      <th></th>\n",
              "      <th>Country,Other</th>\n",
              "      <th>TotalCases</th>\n",
              "      <th>NewCases</th>\n",
              "      <th>TotalDeaths</th>\n",
              "      <th>NewDeaths</th>\n",
              "      <th>TotalRecovered</th>\n",
              "      <th>NewRecovered</th>\n",
              "      <th>ActiveCases</th>\n",
              "      <th>Serious,Critical</th>\n",
              "      <th>TotCases/1M pop</th>\n",
              "      <th>Deaths/1M pop</th>\n",
              "      <th>TotalTests</th>\n",
              "      <th>Tests/1M pop</th>\n",
              "      <th>Population</th>\n",
              "    </tr>\n",
              "  </thead>\n",
              "  <tbody>\n",
              "    <tr>\n",
              "      <th>0</th>\n",
              "      <td>World</td>\n",
              "      <td>162,255,310</td>\n",
              "      <td>+424,956</td>\n",
              "      <td>3,364,658</td>\n",
              "      <td>+6,448</td>\n",
              "      <td>141,160,121</td>\n",
              "      <td>+502,355</td>\n",
              "      <td>17,730,531</td>\n",
              "      <td>104,023</td>\n",
              "      <td>20,816</td>\n",
              "      <td>431.7</td>\n",
              "      <td>NaN</td>\n",
              "      <td>NaN</td>\n",
              "      <td>NaN</td>\n",
              "    </tr>\n",
              "    <tr>\n",
              "      <th>1</th>\n",
              "      <td>USA</td>\n",
              "      <td>33,630,191</td>\n",
              "      <td>+4,094</td>\n",
              "      <td>598,593</td>\n",
              "      <td>+53</td>\n",
              "      <td>26,668,412</td>\n",
              "      <td>+1,213</td>\n",
              "      <td>6,363,186</td>\n",
              "      <td>8,611</td>\n",
              "      <td>101,089</td>\n",
              "      <td>1,799</td>\n",
              "      <td>462,858,811</td>\n",
              "      <td>1,391,302</td>\n",
              "      <td>332,680,263</td>\n",
              "    </tr>\n",
              "    <tr>\n",
              "      <th>2</th>\n",
              "      <td>India</td>\n",
              "      <td>24,320,668</td>\n",
              "      <td>+274,548</td>\n",
              "      <td>265,041</td>\n",
              "      <td>+2,691</td>\n",
              "      <td>20,351,524</td>\n",
              "      <td>+278,157</td>\n",
              "      <td>3,704,103</td>\n",
              "      <td>8,944</td>\n",
              "      <td>17,475</td>\n",
              "      <td>190</td>\n",
              "      <td>311,324,100</td>\n",
              "      <td>223,698</td>\n",
              "      <td>1,391,716,282</td>\n",
              "    </tr>\n",
              "    <tr>\n",
              "      <th>3</th>\n",
              "      <td>Brazil</td>\n",
              "      <td>15,436,827</td>\n",
              "      <td>NaN</td>\n",
              "      <td>430,596</td>\n",
              "      <td>NaN</td>\n",
              "      <td>13,979,329</td>\n",
              "      <td>NaN</td>\n",
              "      <td>1,026,902</td>\n",
              "      <td>8,318</td>\n",
              "      <td>72,180</td>\n",
              "      <td>2,013</td>\n",
              "      <td>46,970,130</td>\n",
              "      <td>219,625</td>\n",
              "      <td>213,864,852</td>\n",
              "    </tr>\n",
              "    <tr>\n",
              "      <th>4</th>\n",
              "      <td>France</td>\n",
              "      <td>5,841,129</td>\n",
              "      <td>NaN</td>\n",
              "      <td>107,250</td>\n",
              "      <td>NaN</td>\n",
              "      <td>4,999,079</td>\n",
              "      <td>NaN</td>\n",
              "      <td>734,800</td>\n",
              "      <td>4,442</td>\n",
              "      <td>89,316</td>\n",
              "      <td>1,640</td>\n",
              "      <td>80,214,807</td>\n",
              "      <td>1,226,555</td>\n",
              "      <td>65,398,484</td>\n",
              "    </tr>\n",
              "    <tr>\n",
              "      <th>...</th>\n",
              "      <td>...</td>\n",
              "      <td>...</td>\n",
              "      <td>...</td>\n",
              "      <td>...</td>\n",
              "      <td>...</td>\n",
              "      <td>...</td>\n",
              "      <td>...</td>\n",
              "      <td>...</td>\n",
              "      <td>...</td>\n",
              "      <td>...</td>\n",
              "      <td>...</td>\n",
              "      <td>...</td>\n",
              "      <td>...</td>\n",
              "      <td>...</td>\n",
              "    </tr>\n",
              "    <tr>\n",
              "      <th>218</th>\n",
              "      <td>Marshall Islands</td>\n",
              "      <td>4</td>\n",
              "      <td>NaN</td>\n",
              "      <td>NaN</td>\n",
              "      <td>NaN</td>\n",
              "      <td>4</td>\n",
              "      <td>NaN</td>\n",
              "      <td>0</td>\n",
              "      <td>NaN</td>\n",
              "      <td>67</td>\n",
              "      <td>NaN</td>\n",
              "      <td>NaN</td>\n",
              "      <td>NaN</td>\n",
              "      <td>59,535</td>\n",
              "    </tr>\n",
              "    <tr>\n",
              "      <th>219</th>\n",
              "      <td>Samoa</td>\n",
              "      <td>3</td>\n",
              "      <td>NaN</td>\n",
              "      <td>NaN</td>\n",
              "      <td>NaN</td>\n",
              "      <td>2</td>\n",
              "      <td>NaN</td>\n",
              "      <td>1</td>\n",
              "      <td>NaN</td>\n",
              "      <td>15</td>\n",
              "      <td>NaN</td>\n",
              "      <td>NaN</td>\n",
              "      <td>NaN</td>\n",
              "      <td>199,553</td>\n",
              "    </tr>\n",
              "    <tr>\n",
              "      <th>220</th>\n",
              "      <td>Saint Helena</td>\n",
              "      <td>2</td>\n",
              "      <td>NaN</td>\n",
              "      <td>NaN</td>\n",
              "      <td>NaN</td>\n",
              "      <td>2</td>\n",
              "      <td>NaN</td>\n",
              "      <td>0</td>\n",
              "      <td>NaN</td>\n",
              "      <td>328</td>\n",
              "      <td>NaN</td>\n",
              "      <td>NaN</td>\n",
              "      <td>NaN</td>\n",
              "      <td>6,093</td>\n",
              "    </tr>\n",
              "    <tr>\n",
              "      <th>221</th>\n",
              "      <td>Micronesia</td>\n",
              "      <td>1</td>\n",
              "      <td>NaN</td>\n",
              "      <td>NaN</td>\n",
              "      <td>NaN</td>\n",
              "      <td>1</td>\n",
              "      <td>NaN</td>\n",
              "      <td>0</td>\n",
              "      <td>NaN</td>\n",
              "      <td>9</td>\n",
              "      <td>NaN</td>\n",
              "      <td>NaN</td>\n",
              "      <td>NaN</td>\n",
              "      <td>116,064</td>\n",
              "    </tr>\n",
              "    <tr>\n",
              "      <th>222</th>\n",
              "      <td>China</td>\n",
              "      <td>90,815</td>\n",
              "      <td>+7</td>\n",
              "      <td>4,636</td>\n",
              "      <td>NaN</td>\n",
              "      <td>85,894</td>\n",
              "      <td>+13</td>\n",
              "      <td>285</td>\n",
              "      <td>1</td>\n",
              "      <td>63</td>\n",
              "      <td>3</td>\n",
              "      <td>160,000,000</td>\n",
              "      <td>111,163</td>\n",
              "      <td>1,439,323,776</td>\n",
              "    </tr>\n",
              "  </tbody>\n",
              "</table>\n",
              "<p>223 rows × 14 columns</p>\n",
              "</div>"
            ],
            "text/plain": [
              "        Country,Other   TotalCases  ... Tests/1M pop     Population\n",
              "0               World  162,255,310  ...          NaN            NaN\n",
              "1                 USA   33,630,191  ...    1,391,302    332,680,263\n",
              "2               India   24,320,668  ...      223,698  1,391,716,282\n",
              "3              Brazil   15,436,827  ...      219,625    213,864,852\n",
              "4              France    5,841,129  ...    1,226,555     65,398,484\n",
              "..                ...          ...  ...          ...            ...\n",
              "218  Marshall Islands            4  ...          NaN         59,535\n",
              "219             Samoa            3  ...          NaN        199,553\n",
              "220      Saint Helena            2  ...          NaN          6,093\n",
              "221        Micronesia            1  ...          NaN        116,064\n",
              "222             China       90,815  ...      111,163  1,439,323,776\n",
              "\n",
              "[223 rows x 14 columns]"
            ]
          },
          "metadata": {
            "tags": []
          },
          "execution_count": 19
        }
      ]
    },
    {
      "cell_type": "code",
      "metadata": {
        "id": "ri-enG5036xa"
      },
      "source": [
        "\n"
      ],
      "execution_count": 20,
      "outputs": []
    },
    {
      "cell_type": "code",
      "metadata": {
        "id": "YEIAolI24u_Z"
      },
      "source": [
        ""
      ],
      "execution_count": null,
      "outputs": []
    }
  ]
}